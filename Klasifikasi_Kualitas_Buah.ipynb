{
  "cells": [
    {
      "cell_type": "code",
      "execution_count": null,
      "metadata": {
        "colab": {
          "base_uri": "https://localhost:8080/"
        },
        "id": "PE0MwWpuqLxw",
        "outputId": "f8cad147-fcea-48f4-d63e-8d53c2b41f88"
      },
      "outputs": [
        {
          "output_type": "stream",
          "name": "stdout",
          "text": [
            "Mounted at /content/drive\n"
          ]
        }
      ],
      "source": [
        "from google.colab import drive\n",
        "\n",
        "drive.mount('/content/drive', force_remount=True)"
      ]
    },
    {
      "cell_type": "code",
      "execution_count": null,
      "metadata": {
        "id": "a-m1G67kqhhY"
      },
      "outputs": [],
      "source": [
        "import io\n",
        "import zipfile\n",
        "\n",
        "file_path = '/content/drive/MyDrive/Dataset/kualitas_buah.zip'\n",
        "\n",
        "zip_ref = zipfile.ZipFile(file_path, 'r')\n",
        "zip_ref.extractall('/content/dataset/kualitas_buah')\n",
        "zip_ref.close()"
      ]
    },
    {
      "cell_type": "code",
      "execution_count": null,
      "metadata": {
        "id": "WTI9-1iwrSnQ"
      },
      "outputs": [],
      "source": [
        "train_dir = '/content/dataset/kualitas_buah/train'\n",
        "val_dir = '/content/dataset/kualitas_buah/val'\n",
        "test_dir = '/content/dataset/kualitas_buah/test'"
      ]
    },
    {
      "cell_type": "code",
      "execution_count": null,
      "metadata": {
        "id": "l0LgTiWLrl8K"
      },
      "outputs": [],
      "source": [
        "BATCH_SIZE = 32\n",
        "EPOCHS = 100\n",
        "IMG_WIDTH, IMG_HEIGHT = 224, 224\n",
        "INPUT_SHAPE = (IMG_WIDTH, IMG_HEIGHT, 3)\n",
        "LEARNING_RATE = 1e-3"
      ]
    },
    {
      "cell_type": "code",
      "execution_count": null,
      "metadata": {
        "colab": {
          "base_uri": "https://localhost:8080/"
        },
        "id": "hKhiErTWr2V7",
        "outputId": "635fa96e-2b10-45ff-9500-6ae8def2b60e"
      },
      "outputs": [
        {
          "output_type": "stream",
          "name": "stdout",
          "text": [
            "Found 5988 images belonging to 10 classes.\n",
            "Found 1000 images belonging to 10 classes.\n",
            "Found 500 images belonging to 10 classes.\n"
          ]
        }
      ],
      "source": [
        "import tensorflow as tf\n",
        "from tensorflow.keras.preprocessing.image import ImageDataGenerator\n",
        "\n",
        "augmented_datagen = ImageDataGenerator(\n",
        "    rescale=1./255,\n",
        "    rotation_range=20,\n",
        "    zoom_range=0.2,\n",
        "    shear_range=0.2,\n",
        "    horizontal_flip=True,\n",
        "    fill_mode='nearest'\n",
        ")\n",
        "\n",
        "normal_datagen = ImageDataGenerator(\n",
        "    rescale=1./255\n",
        ")\n",
        "\n",
        "train_data = augmented_datagen.flow_from_directory(\n",
        "    train_dir,\n",
        "    target_size=(IMG_WIDTH, IMG_HEIGHT),\n",
        "    batch_size=BATCH_SIZE,\n",
        "    class_mode='categorical'\n",
        ")\n",
        "\n",
        "val_data = normal_datagen.flow_from_directory(\n",
        "    val_dir,\n",
        "    target_size=(IMG_WIDTH, IMG_HEIGHT),\n",
        "    batch_size=BATCH_SIZE,\n",
        "    class_mode='categorical'\n",
        ")\n",
        "\n",
        "test_data = normal_datagen.flow_from_directory(\n",
        "    test_dir,\n",
        "    target_size=(IMG_WIDTH, IMG_HEIGHT),\n",
        "    batch_size=BATCH_SIZE,\n",
        "    class_mode='categorical'\n",
        ")"
      ]
    },
    {
      "cell_type": "code",
      "execution_count": null,
      "metadata": {
        "id": "9-2DiE5ptGom",
        "colab": {
          "base_uri": "https://localhost:8080/"
        },
        "outputId": "81e6409e-0870-48cd-db10-9bf3b30de0bf"
      },
      "outputs": [
        {
          "output_type": "stream",
          "name": "stdout",
          "text": [
            "Downloading data from https://storage.googleapis.com/tensorflow/keras-applications/mobilenet_v2/mobilenet_v2_weights_tf_dim_ordering_tf_kernels_1.0_224_no_top.h5\n",
            "9406464/9406464 [==============================] - 0s 0us/step\n"
          ]
        }
      ],
      "source": [
        "from tensorflow.keras.applications import MobileNetV2\n",
        "\n",
        "base_model = MobileNetV2(include_top=False, weights='imagenet', input_shape=INPUT_SHAPE)\n",
        "\n",
        "for layer in base_model.layers:\n",
        "  layer.trainable = False"
      ]
    },
    {
      "cell_type": "code",
      "execution_count": null,
      "metadata": {
        "colab": {
          "base_uri": "https://localhost:8080/"
        },
        "id": "mcb5uvSbtigV",
        "outputId": "06620f62-c1d4-4e5a-a18b-b3bd4ec4eec0"
      },
      "outputs": [
        {
          "output_type": "stream",
          "name": "stdout",
          "text": [
            "Model: \"sequential\"\n",
            "_________________________________________________________________\n",
            " Layer (type)                Output Shape              Param #   \n",
            "=================================================================\n",
            " mobilenetv2_1.00_224 (Funct  (None, 7, 7, 1280)       2257984   \n",
            " ional)                                                          \n",
            "                                                                 \n",
            " global_average_pooling2d (G  (None, 1280)             0         \n",
            " lobalAveragePooling2D)                                          \n",
            "                                                                 \n",
            " flatten (Flatten)           (None, 1280)              0         \n",
            "                                                                 \n",
            " dense (Dense)               (None, 128)               163968    \n",
            "                                                                 \n",
            " dropout (Dropout)           (None, 128)               0         \n",
            "                                                                 \n",
            " dense_1 (Dense)             (None, 10)                1290      \n",
            "                                                                 \n",
            "=================================================================\n",
            "Total params: 2,423,242\n",
            "Trainable params: 165,258\n",
            "Non-trainable params: 2,257,984\n",
            "_________________________________________________________________\n"
          ]
        }
      ],
      "source": [
        "from tensorflow.keras.models import Sequential\n",
        "from tensorflow.keras.layers import Dense, Dropout, Flatten, GlobalAveragePooling2D\n",
        "\n",
        "model = Sequential([\n",
        "    base_model,\n",
        "    GlobalAveragePooling2D(),\n",
        "    Flatten(),\n",
        "    Dense(128, activation='relu'),\n",
        "    Dropout(0.2),\n",
        "    Dense(train_data.num_classes, activation='softmax')\n",
        "])\n",
        "\n",
        "model.summary()"
      ]
    },
    {
      "cell_type": "code",
      "execution_count": null,
      "metadata": {
        "id": "jaYlxrZEuYdB"
      },
      "outputs": [],
      "source": [
        "from tensorflow.keras.optimizers import Adam\n",
        "\n",
        "model.compile(\n",
        "    optimizer=Adam(learning_rate=LEARNING_RATE),\n",
        "    loss='categorical_crossentropy',\n",
        "    metrics=['accuracy']\n",
        ")"
      ]
    },
    {
      "cell_type": "code",
      "execution_count": null,
      "metadata": {
        "id": "9rL_v-l7u4yi"
      },
      "outputs": [],
      "source": [
        "from tensorflow.keras.callbacks import EarlyStopping\n",
        "\n",
        "early_stopping = EarlyStopping(\n",
        "    monitor='val_accuracy',\n",
        "    patience=5,\n",
        "    restore_best_weights=True\n",
        ")"
      ]
    },
    {
      "cell_type": "code",
      "execution_count": null,
      "metadata": {
        "colab": {
          "base_uri": "https://localhost:8080/"
        },
        "id": "mR-QjbsuvOc6",
        "outputId": "e966e6d8-c981-40d5-c1b8-ab2a73a09a81"
      },
      "outputs": [
        {
          "output_type": "stream",
          "name": "stdout",
          "text": [
            "Epoch 1/100\n",
            "188/188 [==============================] - 433s 2s/step - loss: 0.4665 - accuracy: 0.8415 - val_loss: 0.2116 - val_accuracy: 0.9300\n",
            "Epoch 2/100\n",
            "188/188 [==============================] - 422s 2s/step - loss: 0.1472 - accuracy: 0.9544 - val_loss: 0.1912 - val_accuracy: 0.9420\n",
            "Epoch 3/100\n",
            "188/188 [==============================] - 390s 2s/step - loss: 0.0947 - accuracy: 0.9694 - val_loss: 0.1007 - val_accuracy: 0.9710\n",
            "Epoch 4/100\n",
            "188/188 [==============================] - 420s 2s/step - loss: 0.0848 - accuracy: 0.9731 - val_loss: 0.0407 - val_accuracy: 0.9900\n",
            "Epoch 5/100\n",
            "188/188 [==============================] - 426s 2s/step - loss: 0.0663 - accuracy: 0.9786 - val_loss: 0.0723 - val_accuracy: 0.9720\n",
            "Epoch 6/100\n",
            "188/188 [==============================] - 422s 2s/step - loss: 0.0530 - accuracy: 0.9816 - val_loss: 0.0337 - val_accuracy: 0.9910\n",
            "Epoch 7/100\n",
            "188/188 [==============================] - 368s 2s/step - loss: 0.0455 - accuracy: 0.9860 - val_loss: 0.0376 - val_accuracy: 0.9900\n",
            "Epoch 8/100\n",
            "188/188 [==============================] - 406s 2s/step - loss: 0.0372 - accuracy: 0.9880 - val_loss: 0.0300 - val_accuracy: 0.9930\n",
            "Epoch 9/100\n",
            "188/188 [==============================] - 413s 2s/step - loss: 0.0408 - accuracy: 0.9840 - val_loss: 0.0280 - val_accuracy: 0.9930\n",
            "Epoch 10/100\n",
            "188/188 [==============================] - 411s 2s/step - loss: 0.0343 - accuracy: 0.9886 - val_loss: 0.0252 - val_accuracy: 0.9920\n",
            "Epoch 11/100\n",
            "188/188 [==============================] - 406s 2s/step - loss: 0.0382 - accuracy: 0.9866 - val_loss: 0.0336 - val_accuracy: 0.9870\n",
            "Epoch 12/100\n",
            "188/188 [==============================] - 414s 2s/step - loss: 0.0318 - accuracy: 0.9896 - val_loss: 0.0458 - val_accuracy: 0.9880\n",
            "Epoch 13/100\n",
            "188/188 [==============================] - 410s 2s/step - loss: 0.0260 - accuracy: 0.9916 - val_loss: 0.0637 - val_accuracy: 0.9790\n"
          ]
        }
      ],
      "source": [
        "history = model.fit(\n",
        "    train_data,\n",
        "    validation_data=val_data,\n",
        "    epochs=EPOCHS,\n",
        "    callbacks=[early_stopping]\n",
        ")"
      ]
    },
    {
      "cell_type": "code",
      "execution_count": null,
      "metadata": {
        "id": "W-yqfrmqvdV5",
        "colab": {
          "base_uri": "https://localhost:8080/",
          "height": 927
        },
        "outputId": "b5430c41-bab6-410a-e62d-8eb7a84ce0e9"
      },
      "outputs": [
        {
          "output_type": "display_data",
          "data": {
            "text/plain": [
              "<Figure size 640x480 with 1 Axes>"
            ],
            "image/png": "[encoded data removed]"
          },
          "metadata": {}
        },
        {
          "output_type": "display_data",
          "data": {
            "text/plain": [
              "<Figure size 640x480 with 1 Axes>"
            ],
            "image/png": "[encoded data removed]"
          },
          "metadata": {}
        }
      ],
      "source": [
        "import matplotlib.pyplot as plt\n",
        "\n",
        "plt.plot(history.history['accuracy'])\n",
        "plt.plot(history.history['val_accuracy'])\n",
        "plt.title('Model Accuracy')\n",
        "plt.ylabel('Accuracy')\n",
        "plt.xlabel('Epoch')\n",
        "plt.legend(['Training', 'Validation'], loc='upper left')\n",
        "plt.show()\n",
        "\n",
        "plt.plot(history.history['loss'])\n",
        "plt.plot(history.history['val_loss'])\n",
        "plt.title('Model Loss')\n",
        "plt.ylabel('Loss')\n",
        "plt.xlabel('Epoch')\n",
        "plt.legend(['Training', 'Validation'], loc='upper right')\n",
        "plt.show()"
      ]
    },
    {
      "cell_type": "code",
      "source": [
        "scores = model.evaluate(test_data)\n",
        "\n",
        "print('Akurasi: %.2f%%' % (scores[1] * 100))"
      ],
      "metadata": {
        "colab": {
          "base_uri": "https://localhost:8080/"
        },
        "id": "hlOfoFok70-b",
        "outputId": "5c97f321-933c-4f7a-db66-2de78cac3bc1"
      },
      "execution_count": null,
      "outputs": [
        {
          "output_type": "stream",
          "name": "stdout",
          "text": [
            "16/16 [==============================] - 28s 2s/step - loss: 0.0465 - accuracy: 0.9840\n",
            "Akurasi: 98.40%\n"
          ]
        }
      ]
    },
    {
      "cell_type": "code",
      "execution_count": null,
      "metadata": {
        "id": "z9RPC9kmwyBB",
        "colab": {
          "base_uri": "https://localhost:8080/"
        },
        "outputId": "f15534f9-204c-48ec-8098-0a4cb8494be7"
      },
      "outputs": [
        {
          "output_type": "stream",
          "name": "stdout",
          "text": [
            "16/16 [==============================] - 23s 1s/step\n"
          ]
        },
        {
          "output_type": "execute_result",
          "data": {
            "text/plain": [
              "array([[ 6,  8,  4,  4,  3,  5,  6,  5,  3,  6],\n",
              "       [ 3,  6,  5,  5,  7,  5,  4,  6,  6,  3],\n",
              "       [ 7,  7,  2,  4,  3,  5,  7,  3,  8,  4],\n",
              "       [ 4,  9,  6,  5,  4,  5,  5,  6,  5,  1],\n",
              "       [ 5,  3,  9,  5,  7,  3,  4,  2,  5,  7],\n",
              "       [ 4,  4,  4,  7,  4,  7,  7,  4,  4,  5],\n",
              "       [ 4,  3,  7, 10,  9,  6,  2,  2,  4,  3],\n",
              "       [ 8,  4,  3,  3,  5,  3,  6, 10,  2,  6],\n",
              "       [ 6,  3,  4,  3,  4,  5,  4,  4,  8,  9],\n",
              "       [ 5,  3,  0,  7,  5,  6,  5,  8,  5,  6]])"
            ]
          },
          "metadata": {},
          "execution_count": 17
        }
      ],
      "source": [
        "import numpy as np\n",
        "from sklearn.metrics import confusion_matrix, classification_report\n",
        "\n",
        "y_pred = np.argmax(model.predict(test_data), axis=1)\n",
        "y_true = test_data.classes\n",
        "\n",
        "cm = confusion_matrix(y_true, y_pred)\n",
        "cr = classification_report(y_true, y_pred, target_names=test_data.class_indices.keys())"
      ]
    },
    {
      "cell_type": "code",
      "source": [
        "print(cm)"
      ],
      "metadata": {
        "colab": {
          "base_uri": "https://localhost:8080/"
        },
        "id": "dHlZhZMXBhHV",
        "outputId": "6c829dc2-3a7a-437c-e060-84a3623eb643"
      },
      "execution_count": null,
      "outputs": [
        {
          "output_type": "stream",
          "name": "stdout",
          "text": [
            "[[ 6  8  4  4  3  5  6  5  3  6]\n",
            " [ 3  6  5  5  7  5  4  6  6  3]\n",
            " [ 7  7  2  4  3  5  7  3  8  4]\n",
            " [ 4  9  6  5  4  5  5  6  5  1]\n",
            " [ 5  3  9  5  7  3  4  2  5  7]\n",
            " [ 4  4  4  7  4  7  7  4  4  5]\n",
            " [ 4  3  7 10  9  6  2  2  4  3]\n",
            " [ 8  4  3  3  5  3  6 10  2  6]\n",
            " [ 6  3  4  3  4  5  4  4  8  9]\n",
            " [ 5  3  0  7  5  6  5  8  5  6]]\n"
          ]
        }
      ]
    },
    {
      "cell_type": "code",
      "source": [
        "print(cr)"
      ],
      "metadata": {
        "colab": {
          "base_uri": "https://localhost:8080/"
        },
        "id": "UBXkbsHfBZTI",
        "outputId": "59b8b6b5-ee99-41eb-ac41-e84c031dc1f1"
      },
      "execution_count": null,
      "outputs": [
        {
          "output_type": "stream",
          "name": "stdout",
          "text": [
            "                precision    recall  f1-score   support\n",
            "\n",
            "    Apel Busuk       0.12      0.12      0.12        50\n",
            "    Apel Segar       0.12      0.12      0.12        50\n",
            "   Jeruk Busuk       0.05      0.04      0.04        50\n",
            "   Jeruk Segar       0.09      0.10      0.10        50\n",
            "  Mangga Busuk       0.14      0.14      0.14        50\n",
            "  Mangga Segar       0.14      0.14      0.14        50\n",
            "  Pisang Busuk       0.04      0.04      0.04        50\n",
            "  Pisang Segar       0.20      0.20      0.20        50\n",
            "Stroberi Busuk       0.16      0.16      0.16        50\n",
            "Stroberi Segar       0.12      0.12      0.12        50\n",
            "\n",
            "      accuracy                           0.12       500\n",
            "     macro avg       0.12      0.12      0.12       500\n",
            "  weighted avg       0.12      0.12      0.12       500\n",
            "\n"
          ]
        }
      ]
    },
    {
      "cell_type": "code",
      "source": [],
      "metadata": {
        "id": "6pwRG51XBZ06"
      },
      "execution_count": null,
      "outputs": []
    }
  ],
  "metadata": {
    "colab": {
      "provenance": []
    },
    "kernelspec": {
      "display_name": "Python 3",
      "name": "python3"
    },
    "language_info": {
      "name": "python"
    }
  },
  "nbformat": 4,
  "nbformat_minor": 0
}
{
 "cells": [
  {
   "cell_type": "code",
   "execution_count": 9,
   "metadata": {},
   "outputs": [],
   "source": [
    "train_dir = '../dataset/train'\n",
    "\n",
    "test_dir = '../dataset/test'"
   ]
  },
  {
   "cell_type": "code",
   "execution_count": 10,
   "metadata": {
    "colab": {
     "base_uri": "https://localhost:8080/"
    },
    "id": "9ZmyAXbrlfET",
    "outputId": "95e831ba-68d5-429a-8038-fda2c1859cb3"
   },
   "outputs": [
    {
     "name": "stdout",
     "output_type": "stream",
     "text": [
      "Found 8723 images belonging to 6 classes.\n",
      "Found 2178 images belonging to 6 classes.\n",
      "Found 2698 images belonging to 6 classes.\n"
     ]
    }
   ],
   "source": [
    "import tensorflow as tf\n",
    "from tensorflow.keras.preprocessing.image import ImageDataGenerator\n",
    "\n",
    "img_width = 224\n",
    "img_height = 224\n",
    "batch_size = 32\n",
    "\n",
    "augmentation_datagen = ImageDataGenerator(\n",
    "    rescale=1./255,\n",
    "    rotation_range=20,\n",
    "    zoom_range=0.2,\n",
    "    shear_range=0.2,\n",
    "    horizontal_flip=True,\n",
    "    fill_mode='nearest',\n",
    "    validation_split=0.2\n",
    ")\n",
    "\n",
    "normal_datagen = ImageDataGenerator(\n",
    "    rescale=1./255\n",
    ")\n",
    "\n",
    "train_ds = augmentation_datagen.flow_from_directory(\n",
    "    train_dir,\n",
    "    subset='training',\n",
    "    target_size=(img_width, img_height),\n",
    "    batch_size=batch_size,\n",
    "    class_mode='categorical'\n",
    ")\n",
    "\n",
    "val_ds = augmentation_datagen.flow_from_directory(\n",
    "    train_dir,\n",
    "    subset='validation',\n",
    "    target_size=(img_width, img_height),\n",
    "    batch_size=batch_size,\n",
    "    class_mode='categorical'\n",
    ")\n",
    "\n",
    "test_ds = normal_datagen.flow_from_directory(\n",
    "    test_dir,\n",
    "    target_size=(img_width, img_height),\n",
    "    batch_size=batch_size,\n",
    "    class_mode='categorical',\n",
    "    shuffle=False\n",
    ")"
   ]
  },
  {
   "cell_type": "code",
   "execution_count": 11,
   "metadata": {
    "colab": {
     "base_uri": "https://localhost:8080/"
    },
    "id": "PBcaYxE1mnlI",
    "outputId": "84e368aa-5ae8-4c19-df4d-3438caf0dc32"
   },
   "outputs": [
    {
     "name": "stdout",
     "output_type": "stream",
     "text": [
      "{'freshapples': 0, 'freshbanana': 1, 'freshoranges': 2, 'rottenapples': 3, 'rottenbanana': 4, 'rottenoranges': 5}\n"
     ]
    }
   ],
   "source": [
    "class_names = train_ds.class_indices\n",
    "print(class_names)"
   ]
  },
  {
   "cell_type": "code",
   "execution_count": 12,
   "metadata": {
    "colab": {
     "base_uri": "https://localhost:8080/"
    },
    "id": "o3MOi-bOoFQq",
    "outputId": "66572c55-2089-40fb-f0a1-c2065d0f067c"
   },
   "outputs": [
    {
     "name": "stdout",
     "output_type": "stream",
     "text": [
      "Downloading data from https://storage.googleapis.com/tensorflow/keras-applications/mobilenet_v2/mobilenet_v2_weights_tf_dim_ordering_tf_kernels_1.0_224_no_top.h5\n",
      "9406464/9406464 [==============================] - 2s 0us/step\n"
     ]
    }
   ],
   "source": [
    "from tensorflow.keras.applications import MobileNetV2\n",
    "\n",
    "base_model = MobileNetV2(\n",
    "    include_top=False, \n",
    "    weights='imagenet', \n",
    "    input_shape=(img_width, img_height, 3)\n",
    ")\n",
    "\n",
    "for layer in base_model.layers:\n",
    "  layer.trainable = False"
   ]
  },
  {
   "cell_type": "code",
   "execution_count": 13,
   "metadata": {
    "colab": {
     "base_uri": "https://localhost:8080/"
    },
    "id": "UhTpWJ3NvIhz",
    "outputId": "e41f9404-086c-4347-ee4b-ddd98650ae40"
   },
   "outputs": [
    {
     "name": "stdout",
     "output_type": "stream",
     "text": [
      "Model: \"sequential\"\n",
      "_________________________________________________________________\n",
      " Layer (type)                Output Shape              Param #   \n",
      "=================================================================\n",
      " mobilenetv2_1.00_224 (Func  (None, 7, 7, 1280)        2257984   \n",
      " tional)                                                         \n",
      "                                                                 \n",
      " global_average_pooling2d (  (None, 1280)              0         \n",
      " GlobalAveragePooling2D)                                         \n",
      "                                                                 \n",
      " flatten (Flatten)           (None, 1280)              0         \n",
      "                                                                 \n",
      " dense (Dense)               (None, 128)               163968    \n",
      "                                                                 \n",
      " dropout (Dropout)           (None, 128)               0         \n",
      "                                                                 \n",
      " dense_1 (Dense)             (None, 6)                 774       \n",
      "                                                                 \n",
      "=================================================================\n",
      "Total params: 2422726 (9.24 MB)\n",
      "Trainable params: 164742 (643.52 KB)\n",
      "Non-trainable params: 2257984 (8.61 MB)\n",
      "_________________________________________________________________\n"
     ]
    }
   ],
   "source": [
    "from tensorflow.keras.models import Sequential\n",
    "from tensorflow.keras.layers import Dense, Dropout, Flatten, GlobalAveragePooling2D\n",
    "\n",
    "model = Sequential([\n",
    "    base_model,\n",
    "    GlobalAveragePooling2D(),\n",
    "    Flatten(),\n",
    "    Dense(128, activation='relu'),\n",
    "    Dropout(0.2),\n",
    "    Dense(train_ds.num_classes, activation='softmax')\n",
    "])\n",
    "\n",
    "model.summary()"
   ]
  },
  {
   "cell_type": "code",
   "execution_count": 15,
   "metadata": {
    "id": "gcEr38EB0Y9Q"
   },
   "outputs": [],
   "source": [
    "from tensorflow.keras.optimizers.legacy import Adam\n",
    "\n",
    "model.compile(\n",
    "    optimizer=Adam(learning_rate=1e-3),\n",
    "    loss='categorical_crossentropy',\n",
    "    metrics=['accuracy']\n",
    ")"
   ]
  },
  {
   "cell_type": "code",
   "execution_count": 9,
   "metadata": {
    "id": "3YJ8UBMp0ekO"
   },
   "outputs": [],
   "source": [
    "from tensorflow.keras.callbacks import EarlyStopping\n",
    "\n",
    "early_stopping = EarlyStopping(\n",
    "    monitor='val_accuracy',\n",
    "    patience=5,\n",
    "    restore_best_weights=True\n",
    ")"
   ]
  },
  {
   "cell_type": "code",
   "execution_count": 16,
   "metadata": {},
   "outputs": [],
   "source": [
    "class myCallback(tf.keras.callbacks.Callback):\n",
    "  def on_epoch_end(self, epoch, logs={}):\n",
    "    if(logs.get('accuracy') >= 0.999):\n",
    "      print(\"\\nReached 99.9% accuracy. Stop Training\")\n",
    "      self.model.stop_training = True\n",
    "\n",
    "callbacks = myCallback()"
   ]
  },
  {
   "cell_type": "code",
   "execution_count": 17,
   "metadata": {
    "colab": {
     "base_uri": "https://localhost:8080/"
    },
    "id": "x_C7s3430hfv",
    "outputId": "d3b7a268-2d22-4e72-f378-370623e956cf"
   },
   "outputs": [
    {
     "name": "stdout",
     "output_type": "stream",
     "text": [
      "Epoch 1/100\n",
      "273/273 [==============================] - 107s 387ms/step - loss: 0.2047 - accuracy: 0.9285 - val_loss: 0.0561 - val_accuracy: 0.9793\n",
      "Epoch 2/100\n",
      "273/273 [==============================] - 99s 363ms/step - loss: 0.0708 - accuracy: 0.9756 - val_loss: 0.0293 - val_accuracy: 0.9913\n",
      "Epoch 3/100\n",
      "273/273 [==============================] - 100s 365ms/step - loss: 0.0498 - accuracy: 0.9822 - val_loss: 0.0207 - val_accuracy: 0.9936\n",
      "Epoch 4/100\n",
      "273/273 [==============================] - 101s 370ms/step - loss: 0.0314 - accuracy: 0.9892 - val_loss: 0.0157 - val_accuracy: 0.9949\n",
      "Epoch 5/100\n",
      "273/273 [==============================] - 104s 381ms/step - loss: 0.0370 - accuracy: 0.9858 - val_loss: 0.0176 - val_accuracy: 0.9927\n",
      "Epoch 6/100\n",
      "273/273 [==============================] - 101s 371ms/step - loss: 0.0298 - accuracy: 0.9897 - val_loss: 0.0121 - val_accuracy: 0.9968\n",
      "Epoch 7/100\n",
      "273/273 [==============================] - 101s 368ms/step - loss: 0.0241 - accuracy: 0.9916 - val_loss: 0.0245 - val_accuracy: 0.9913\n",
      "Epoch 8/100\n",
      "273/273 [==============================] - 100s 368ms/step - loss: 0.0248 - accuracy: 0.9915 - val_loss: 0.0099 - val_accuracy: 0.9963\n",
      "Epoch 9/100\n",
      "273/273 [==============================] - 101s 370ms/step - loss: 0.0197 - accuracy: 0.9928 - val_loss: 0.0211 - val_accuracy: 0.9936\n",
      "Epoch 10/100\n",
      "273/273 [==============================] - 100s 367ms/step - loss: 0.0260 - accuracy: 0.9912 - val_loss: 0.0123 - val_accuracy: 0.9949\n",
      "Epoch 11/100\n",
      "273/273 [==============================] - 100s 366ms/step - loss: 0.0193 - accuracy: 0.9931 - val_loss: 0.0029 - val_accuracy: 0.9991\n",
      "Epoch 12/100\n",
      "273/273 [==============================] - 101s 370ms/step - loss: 0.0145 - accuracy: 0.9946 - val_loss: 0.0030 - val_accuracy: 0.9995\n",
      "Epoch 13/100\n",
      "273/273 [==============================] - 101s 370ms/step - loss: 0.0190 - accuracy: 0.9934 - val_loss: 0.0071 - val_accuracy: 0.9972\n",
      "Epoch 14/100\n",
      "273/273 [==============================] - 101s 371ms/step - loss: 0.0159 - accuracy: 0.9940 - val_loss: 0.0017 - val_accuracy: 1.0000\n",
      "Epoch 15/100\n",
      "273/273 [==============================] - 102s 372ms/step - loss: 0.0192 - accuracy: 0.9932 - val_loss: 0.0053 - val_accuracy: 0.9968\n",
      "Epoch 16/100\n",
      "273/273 [==============================] - 103s 376ms/step - loss: 0.0241 - accuracy: 0.9919 - val_loss: 0.0036 - val_accuracy: 0.9991\n",
      "Epoch 17/100\n",
      "273/273 [==============================] - 102s 372ms/step - loss: 0.0114 - accuracy: 0.9952 - val_loss: 0.0063 - val_accuracy: 0.9977\n",
      "Epoch 18/100\n",
      "273/273 [==============================] - 103s 376ms/step - loss: 0.0170 - accuracy: 0.9943 - val_loss: 0.0123 - val_accuracy: 0.9954\n",
      "Epoch 19/100\n",
      "273/273 [==============================] - 101s 369ms/step - loss: 0.0113 - accuracy: 0.9953 - val_loss: 0.0090 - val_accuracy: 0.9959\n",
      "Epoch 20/100\n",
      "273/273 [==============================] - 100s 365ms/step - loss: 0.0189 - accuracy: 0.9937 - val_loss: 0.0078 - val_accuracy: 0.9968\n",
      "Epoch 21/100\n",
      "273/273 [==============================] - 100s 366ms/step - loss: 0.0189 - accuracy: 0.9934 - val_loss: 0.0027 - val_accuracy: 0.9986\n",
      "Epoch 22/100\n",
      "273/273 [==============================] - 101s 369ms/step - loss: 0.0137 - accuracy: 0.9951 - val_loss: 0.0014 - val_accuracy: 1.0000\n",
      "Epoch 23/100\n",
      "273/273 [==============================] - 100s 367ms/step - loss: 0.0103 - accuracy: 0.9969 - val_loss: 0.0091 - val_accuracy: 0.9968\n",
      "Epoch 24/100\n",
      "273/273 [==============================] - 100s 366ms/step - loss: 0.0082 - accuracy: 0.9978 - val_loss: 0.0035 - val_accuracy: 0.9986\n",
      "Epoch 25/100\n",
      "273/273 [==============================] - 100s 367ms/step - loss: 0.0073 - accuracy: 0.9978 - val_loss: 0.0068 - val_accuracy: 0.9977\n",
      "Epoch 26/100\n",
      "273/273 [==============================] - 101s 369ms/step - loss: 0.0107 - accuracy: 0.9967 - val_loss: 0.0031 - val_accuracy: 0.9986\n",
      "Epoch 27/100\n",
      "273/273 [==============================] - 99s 363ms/step - loss: 0.0144 - accuracy: 0.9947 - val_loss: 0.0091 - val_accuracy: 0.9968\n",
      "Epoch 28/100\n",
      "273/273 [==============================] - 100s 365ms/step - loss: 0.0183 - accuracy: 0.9948 - val_loss: 0.0058 - val_accuracy: 0.9982\n",
      "Epoch 29/100\n",
      "273/273 [==============================] - 100s 364ms/step - loss: 0.0119 - accuracy: 0.9962 - val_loss: 0.0034 - val_accuracy: 0.9991\n",
      "Epoch 30/100\n",
      "273/273 [==============================] - 99s 363ms/step - loss: 0.0085 - accuracy: 0.9972 - val_loss: 0.0068 - val_accuracy: 0.9968\n",
      "Epoch 31/100\n",
      "273/273 [==============================] - 99s 363ms/step - loss: 0.0161 - accuracy: 0.9945 - val_loss: 0.0037 - val_accuracy: 0.9982\n",
      "Epoch 32/100\n",
      "273/273 [==============================] - 99s 364ms/step - loss: 0.0082 - accuracy: 0.9975 - val_loss: 0.0153 - val_accuracy: 0.9968\n",
      "Epoch 33/100\n",
      "273/273 [==============================] - 100s 365ms/step - loss: 0.0108 - accuracy: 0.9962 - val_loss: 0.0031 - val_accuracy: 0.9986\n",
      "Epoch 34/100\n",
      "273/273 [==============================] - 100s 366ms/step - loss: 0.0080 - accuracy: 0.9967 - val_loss: 0.0027 - val_accuracy: 0.9986\n",
      "Epoch 35/100\n",
      "273/273 [==============================] - 100s 365ms/step - loss: 0.0090 - accuracy: 0.9974 - val_loss: 0.0079 - val_accuracy: 0.9963\n",
      "Epoch 36/100\n",
      "273/273 [==============================] - 100s 367ms/step - loss: 0.0164 - accuracy: 0.9948 - val_loss: 0.0022 - val_accuracy: 0.9991\n",
      "Epoch 37/100\n",
      "273/273 [==============================] - 102s 372ms/step - loss: 0.0082 - accuracy: 0.9971 - val_loss: 0.0022 - val_accuracy: 0.9991\n",
      "Epoch 38/100\n",
      "273/273 [==============================] - 102s 372ms/step - loss: 0.0058 - accuracy: 0.9985 - val_loss: 0.0013 - val_accuracy: 0.9991\n",
      "Epoch 39/100\n",
      "273/273 [==============================] - 101s 368ms/step - loss: 0.0055 - accuracy: 0.9982 - val_loss: 0.0049 - val_accuracy: 0.9972\n",
      "Epoch 40/100\n",
      "273/273 [==============================] - 101s 370ms/step - loss: 0.0111 - accuracy: 0.9961 - val_loss: 0.0070 - val_accuracy: 0.9972\n",
      "Epoch 41/100\n",
      "273/273 [==============================] - 100s 367ms/step - loss: 0.0107 - accuracy: 0.9964 - val_loss: 0.0019 - val_accuracy: 0.9995\n",
      "Epoch 42/100\n",
      "273/273 [==============================] - 100s 366ms/step - loss: 0.0122 - accuracy: 0.9963 - val_loss: 0.0036 - val_accuracy: 0.9991\n",
      "Epoch 43/100\n",
      "273/273 [==============================] - 100s 367ms/step - loss: 0.0133 - accuracy: 0.9956 - val_loss: 9.3648e-04 - val_accuracy: 0.9995\n",
      "Epoch 44/100\n",
      "273/273 [==============================] - 101s 368ms/step - loss: 0.0112 - accuracy: 0.9968 - val_loss: 0.0025 - val_accuracy: 0.9991\n",
      "Epoch 45/100\n",
      "273/273 [==============================] - 101s 368ms/step - loss: 0.0115 - accuracy: 0.9964 - val_loss: 0.0022 - val_accuracy: 0.9991\n",
      "Epoch 46/100\n",
      "273/273 [==============================] - 109s 399ms/step - loss: 0.0061 - accuracy: 0.9979 - val_loss: 0.0018 - val_accuracy: 0.9991\n",
      "Epoch 47/100\n",
      "273/273 [==============================] - 120s 440ms/step - loss: 0.0077 - accuracy: 0.9975 - val_loss: 0.0029 - val_accuracy: 0.9982\n",
      "Epoch 48/100\n",
      "273/273 [==============================] - 119s 436ms/step - loss: 0.0078 - accuracy: 0.9977 - val_loss: 0.0017 - val_accuracy: 0.9991\n",
      "Epoch 49/100\n",
      "273/273 [==============================] - 122s 445ms/step - loss: 0.0124 - accuracy: 0.9960 - val_loss: 0.0040 - val_accuracy: 0.9986\n",
      "Epoch 50/100\n",
      "273/273 [==============================] - 118s 430ms/step - loss: 0.0106 - accuracy: 0.9964 - val_loss: 0.0017 - val_accuracy: 0.9991\n",
      "Epoch 51/100\n",
      "273/273 [==============================] - 118s 434ms/step - loss: 0.0074 - accuracy: 0.9970 - val_loss: 0.0021 - val_accuracy: 0.9986\n",
      "Epoch 52/100\n",
      "273/273 [==============================] - 119s 435ms/step - loss: 0.0099 - accuracy: 0.9962 - val_loss: 0.0106 - val_accuracy: 0.9991\n",
      "Epoch 53/100\n",
      "273/273 [==============================] - 120s 439ms/step - loss: 0.0135 - accuracy: 0.9962 - val_loss: 0.0034 - val_accuracy: 0.9982\n",
      "Epoch 54/100\n",
      "273/273 [==============================] - 114s 418ms/step - loss: 0.0122 - accuracy: 0.9962 - val_loss: 0.0028 - val_accuracy: 0.9986\n",
      "Epoch 55/100\n",
      "273/273 [==============================] - 116s 425ms/step - loss: 0.0039 - accuracy: 0.9987 - val_loss: 0.0012 - val_accuracy: 0.9991\n",
      "Epoch 56/100\n"
     ]
    },
    {
     "name": "stdout",
     "output_type": "stream",
     "text": [
      "273/273 [==============================] - 115s 420ms/step - loss: 0.0088 - accuracy: 0.9969 - val_loss: 0.0117 - val_accuracy: 0.9959\n",
      "Epoch 57/100\n",
      "273/273 [==============================] - 116s 425ms/step - loss: 0.0101 - accuracy: 0.9968 - val_loss: 2.7642e-04 - val_accuracy: 1.0000\n",
      "Epoch 58/100\n",
      "273/273 [==============================] - 114s 419ms/step - loss: 0.0067 - accuracy: 0.9975 - val_loss: 0.0050 - val_accuracy: 0.9986\n",
      "Epoch 59/100\n",
      "273/273 [==============================] - 115s 422ms/step - loss: 0.0060 - accuracy: 0.9983 - val_loss: 0.0011 - val_accuracy: 0.9995\n",
      "Epoch 60/100\n",
      "273/273 [==============================] - 115s 420ms/step - loss: 0.0055 - accuracy: 0.9979 - val_loss: 0.0102 - val_accuracy: 0.9954\n",
      "Epoch 61/100\n",
      "273/273 [==============================] - 117s 427ms/step - loss: 0.0119 - accuracy: 0.9967 - val_loss: 0.0078 - val_accuracy: 0.9977\n",
      "Epoch 62/100\n",
      "273/273 [==============================] - 115s 422ms/step - loss: 0.0071 - accuracy: 0.9981 - val_loss: 2.2117e-04 - val_accuracy: 1.0000\n",
      "Epoch 63/100\n",
      "273/273 [==============================] - 114s 418ms/step - loss: 0.0107 - accuracy: 0.9969 - val_loss: 0.0055 - val_accuracy: 0.9986\n",
      "Epoch 64/100\n",
      "273/273 [==============================] - 115s 422ms/step - loss: 0.0115 - accuracy: 0.9962 - val_loss: 0.0020 - val_accuracy: 0.9991\n",
      "Epoch 65/100\n",
      "273/273 [==============================] - 100s 366ms/step - loss: 0.0073 - accuracy: 0.9982 - val_loss: 8.9121e-04 - val_accuracy: 0.9995\n",
      "Epoch 66/100\n",
      "273/273 [==============================] - 100s 367ms/step - loss: 0.0057 - accuracy: 0.9975 - val_loss: 1.9139e-04 - val_accuracy: 1.0000\n",
      "Epoch 67/100\n",
      "273/273 [==============================] - 100s 366ms/step - loss: 0.0046 - accuracy: 0.9978 - val_loss: 0.0014 - val_accuracy: 0.9995\n",
      "Epoch 68/100\n",
      "273/273 [==============================] - 99s 363ms/step - loss: 0.0066 - accuracy: 0.9978 - val_loss: 2.7053e-05 - val_accuracy: 1.0000\n",
      "Epoch 69/100\n",
      "273/273 [==============================] - 99s 363ms/step - loss: 0.0078 - accuracy: 0.9972 - val_loss: 2.3895e-04 - val_accuracy: 1.0000\n",
      "Epoch 70/100\n",
      "273/273 [==============================] - 99s 363ms/step - loss: 0.0058 - accuracy: 0.9982 - val_loss: 0.0048 - val_accuracy: 0.9982\n",
      "Epoch 71/100\n",
      "273/273 [==============================] - 99s 361ms/step - loss: 0.0044 - accuracy: 0.9987 - val_loss: 0.0015 - val_accuracy: 0.9991\n",
      "Epoch 72/100\n",
      "273/273 [==============================] - 100s 364ms/step - loss: 0.0074 - accuracy: 0.9971 - val_loss: 0.0033 - val_accuracy: 0.9986\n",
      "Epoch 73/100\n",
      "273/273 [==============================] - 99s 364ms/step - loss: 0.0088 - accuracy: 0.9974 - val_loss: 0.0036 - val_accuracy: 0.9995\n",
      "Epoch 74/100\n",
      "273/273 [==============================] - 99s 362ms/step - loss: 0.0050 - accuracy: 0.9984 - val_loss: 1.9194e-04 - val_accuracy: 1.0000\n",
      "Epoch 75/100\n",
      "273/273 [==============================] - 99s 362ms/step - loss: 0.0059 - accuracy: 0.9981 - val_loss: 0.0042 - val_accuracy: 0.9986\n",
      "Epoch 76/100\n",
      "273/273 [==============================] - 99s 363ms/step - loss: 0.0105 - accuracy: 0.9971 - val_loss: 0.0037 - val_accuracy: 0.9991\n",
      "Epoch 77/100\n",
      "273/273 [==============================] - 99s 364ms/step - loss: 0.0077 - accuracy: 0.9978 - val_loss: 0.0013 - val_accuracy: 0.9991\n",
      "Epoch 78/100\n",
      "273/273 [==============================] - 99s 363ms/step - loss: 0.0076 - accuracy: 0.9979 - val_loss: 9.6030e-04 - val_accuracy: 0.9995\n",
      "Epoch 79/100\n",
      "273/273 [==============================] - 102s 372ms/step - loss: 0.0107 - accuracy: 0.9970 - val_loss: 0.0034 - val_accuracy: 0.9986\n",
      "Epoch 80/100\n",
      "273/273 [==============================] - 100s 367ms/step - loss: 0.0066 - accuracy: 0.9971 - val_loss: 7.4056e-05 - val_accuracy: 1.0000\n",
      "Epoch 81/100\n",
      "273/273 [==============================] - 100s 366ms/step - loss: 0.0092 - accuracy: 0.9969 - val_loss: 0.0019 - val_accuracy: 0.9995\n",
      "Epoch 82/100\n",
      "273/273 [==============================] - 103s 377ms/step - loss: 0.0068 - accuracy: 0.9979 - val_loss: 0.0052 - val_accuracy: 0.9986\n",
      "Epoch 83/100\n",
      "273/273 [==============================] - 102s 373ms/step - loss: 0.0085 - accuracy: 0.9975 - val_loss: 4.3056e-04 - val_accuracy: 1.0000\n",
      "Epoch 84/100\n",
      "273/273 [==============================] - 99s 364ms/step - loss: 0.0133 - accuracy: 0.9964 - val_loss: 0.0046 - val_accuracy: 0.9982\n",
      "Epoch 85/100\n",
      "273/273 [==============================] - 99s 363ms/step - loss: 0.0079 - accuracy: 0.9979 - val_loss: 2.9505e-04 - val_accuracy: 1.0000\n",
      "Epoch 86/100\n",
      "273/273 [==============================] - ETA: 0s - loss: 0.0020 - accuracy: 0.9992\n",
      "Reached 99.9% accuracy. Stop Training\n",
      "273/273 [==============================] - 101s 371ms/step - loss: 0.0020 - accuracy: 0.9992 - val_loss: 2.7681e-04 - val_accuracy: 1.0000\n"
     ]
    }
   ],
   "source": [
    "history = model.fit(\n",
    "    train_ds,\n",
    "    validation_data=val_ds,\n",
    "    epochs=100,\n",
    "    callbacks=[callbacks]\n",
    ")"
   ]
  },
  {
   "cell_type": "code",
   "execution_count": 18,
   "metadata": {
    "colab": {
     "base_uri": "https://localhost:8080/",
     "height": 927
    },
    "id": "lSHVdT_uAGVQ",
    "outputId": "af090bb7-75b2-41da-9c42-932455fb60fb"
   },
   "outputs": [
    {
     "data": {
      "image/png": "[encoded data removed]",
      "text/plain": [
       "<Figure size 640x480 with 1 Axes>"
      ]
     },
     "metadata": {},
     "output_type": "display_data"
    },
    {
     "data": {
      "image/png": "[encoded data removed]",
      "text/plain": [
       "<Figure size 640x480 with 1 Axes>"
      ]
     },
     "metadata": {},
     "output_type": "display_data"
    }
   ],
   "source": [
    "import matplotlib.pyplot as plt\n",
    "\n",
    "plt.plot(history.history['accuracy'])\n",
    "plt.plot(history.history['val_accuracy'])\n",
    "plt.title('Model Accuracy')\n",
    "plt.ylabel('Accuracy')\n",
    "plt.xlabel('Epoch')\n",
    "plt.legend(['Training', 'Validation'], loc='upper left')\n",
    "plt.show()\n",
    "\n",
    "plt.plot(history.history['loss'])\n",
    "plt.plot(history.history['val_loss'])\n",
    "plt.title('Model Loss')\n",
    "plt.ylabel('Loss')\n",
    "plt.xlabel('Epoch')\n",
    "plt.legend(['Training', 'Validation'], loc='upper right')\n",
    "plt.show()"
   ]
  },
  {
   "cell_type": "code",
   "execution_count": 19,
   "metadata": {
    "colab": {
     "base_uri": "https://localhost:8080/"
    },
    "id": "f5Z2ZanNAKkx",
    "outputId": "76a77eea-fcfd-4535-d228-584fb0118b1b"
   },
   "outputs": [
    {
     "name": "stdout",
     "output_type": "stream",
     "text": [
      "85/85 [==============================] - 17s 197ms/step - loss: 0.0135 - accuracy: 0.9963\n",
      "Akurasi: 99.63%\n"
     ]
    }
   ],
   "source": [
    "scores = model.evaluate(test_ds)\n",
    "\n",
    "print('Akurasi: %.2f%%' % (scores[1] * 100))"
   ]
  },
  {
   "cell_type": "code",
   "execution_count": 20,
   "metadata": {
    "colab": {
     "base_uri": "https://localhost:8080/"
    },
    "id": "e7gEuKRoAStz",
    "outputId": "741a1f42-e3e2-471c-cf6f-6cafdb758b48"
   },
   "outputs": [
    {
     "name": "stdout",
     "output_type": "stream",
     "text": [
      "85/85 [==============================] - 17s 197ms/step\n"
     ]
    }
   ],
   "source": [
    "import numpy as np\n",
    "from sklearn.metrics import confusion_matrix, classification_report\n",
    "\n",
    "y_pred = np.argmax(model.predict(test_ds), axis=1)\n",
    "y_true = test_ds.classes\n",
    "\n",
    "cm = confusion_matrix(y_true, y_pred)\n",
    "cr = classification_report(y_true, y_pred, target_names=test_ds.class_indices.keys())"
   ]
  },
  {
   "cell_type": "code",
   "execution_count": 21,
   "metadata": {
    "colab": {
     "base_uri": "https://localhost:8080/"
    },
    "id": "caxBb-h_Acnp",
    "outputId": "d1d752bd-8041-409c-e2ec-f32fa056db70"
   },
   "outputs": [
    {
     "name": "stdout",
     "output_type": "stream",
     "text": [
      "[[395   0   0   0   0   0]\n",
      " [  0 381   0   0   0   0]\n",
      " [  0   0 386   0   0   2]\n",
      " [  4   0   0 596   0   1]\n",
      " [  0   0   0   0 530   0]\n",
      " [  0   0   1   2   0 400]]\n"
     ]
    }
   ],
   "source": [
    "print(cm)"
   ]
  },
  {
   "cell_type": "code",
   "execution_count": 22,
   "metadata": {
    "colab": {
     "base_uri": "https://localhost:8080/"
    },
    "id": "Ucg9lFbBAezZ",
    "outputId": "fa0af292-d1cd-496e-df4d-1ef343356a59"
   },
   "outputs": [
    {
     "name": "stdout",
     "output_type": "stream",
     "text": [
      "               precision    recall  f1-score   support\n",
      "\n",
      "  freshapples       0.99      1.00      0.99       395\n",
      "  freshbanana       1.00      1.00      1.00       381\n",
      " freshoranges       1.00      0.99      1.00       388\n",
      " rottenapples       1.00      0.99      0.99       601\n",
      " rottenbanana       1.00      1.00      1.00       530\n",
      "rottenoranges       0.99      0.99      0.99       403\n",
      "\n",
      "     accuracy                           1.00      2698\n",
      "    macro avg       1.00      1.00      1.00      2698\n",
      " weighted avg       1.00      1.00      1.00      2698\n",
      "\n"
     ]
    }
   ],
   "source": [
    "print(cr)"
   ]
  },
  {
   "cell_type": "code",
   "execution_count": 25,
   "metadata": {},
   "outputs": [
    {
     "name": "stderr",
     "output_type": "stream",
     "text": [
      "WARNING:absl:`mobilenetv2_1.00_224_input` is not a valid tf.function parameter name. Sanitizing to `mobilenetv2_1_00_224_input`.\n",
      "WARNING:absl:`mobilenetv2_1.00_224_input` is not a valid tf.function parameter name. Sanitizing to `mobilenetv2_1_00_224_input`.\n",
      "WARNING:absl:`mobilenetv2_1.00_224_input` is not a valid tf.function parameter name. Sanitizing to `mobilenetv2_1_00_224_input`.\n"
     ]
    },
    {
     "name": "stdout",
     "output_type": "stream",
     "text": [
      "INFO:tensorflow:Assets written to: model_frutify/assets\n"
     ]
    },
    {
     "name": "stderr",
     "output_type": "stream",
     "text": [
      "INFO:tensorflow:Assets written to: model_frutify/assets\n"
     ]
    }
   ],
   "source": [
    "saved_model = \"model_frutify.h5\"\n",
    "model.save(saved_model)"
   ]
  },
  {
   "cell_type": "code",
   "execution_count": 31,
   "metadata": {},
   "outputs": [
    {
     "name": "stdout",
     "output_type": "stream",
     "text": [
      "85/85 [==============================] - 18s 206ms/step\n",
      "85/85 [==============================] - 18s 206ms/step\n",
      "85/85 [==============================] - 18s 198ms/step - loss: 0.0277 - accuracy: 0.9948\n"
     ]
    },
    {
     "data": {
      "text/plain": [
       "<keras.src.callbacks.History at 0x29af58e20>"
      ]
     },
     "execution_count": 31,
     "metadata": {},
     "output_type": "execute_result"
    }
   ],
   "source": [
    "import numpy as np\n",
    "import tensorflow as tf\n",
    "from tensorflow import keras\n",
    "\n",
    "reconstructed_model = keras.models.load_model(\"model_frutify\")\n",
    "\n",
    "# Let's check:\n",
    "np.testing.assert_allclose(\n",
    "    model.predict(test_ds), reconstructed_model.predict(test_ds)\n",
    ")\n",
    "\n",
    "# The reconstructed model is already compiled and has retained the optimizer\n",
    "# state, so training can resume:\n",
    "reconstructed_model.fit(test_ds)"
   ]
  }
 ],
 "metadata": {
  "accelerator": "GPU",
  "colab": {
   "gpuType": "T4",
   "provenance": []
  },
  "kernelspec": {
   "display_name": "Python 3 (ipykernel)",
   "language": "python",
   "name": "python3"
  },
  "language_info": {
   "codemirror_mode": {
    "name": "ipython",
    "version": 3
   },
   "file_extension": ".py",
   "mimetype": "text/x-python",
   "name": "python",
   "nbconvert_exporter": "python",
   "pygments_lexer": "ipython3",
   "version": "3.10.9"
  }
 },
 "nbformat": 4,
 "nbformat_minor": 1
}
